{
 "cells": [
  {
   "cell_type": "markdown",
   "metadata": {},
   "source": [
    "# Project Directory\n",
    "- [Dashboard](https://public.tableau.com/app/profile/tyler.nardone/viz/OCPRFacilitiesRevenueDashboard/Dashboard1)\n",
    "- [1-data-cleaning](https://tynardone.github.io/ocpr-data-viz/notebooks/1-data-cleaning.html)\n",
    "- [2-data-eda](https://tynardone.github.io/ocpr-data-viz/notebooks/2-data-eda.html)\n",
    "- [3-weather-analysis](https://tynardone.github.io/ocpr-data-viz/notebooks/3-weather-analysis.html)"
   ]
  },
  {
   "cell_type": "markdown",
   "metadata": {},
   "source": []
  }
 ],
 "metadata": {
  "language_info": {
   "name": "python"
  }
 },
 "nbformat": 4,
 "nbformat_minor": 2
}
