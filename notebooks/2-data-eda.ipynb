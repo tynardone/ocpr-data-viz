{
 "cells": [
  {
   "cell_type": "markdown",
   "metadata": {},
   "source": [
    "---\n",
    "title: Exploratory Data Analysis (EDA) of the OCPR \n",
    "format:\n",
    "    html:\n",
    "        code-fold: true\n",
    "jupyter: python\n",
    "---"
   ]
  },
  {
   "cell_type": "markdown",
   "metadata": {},
   "source": [
    "\n",
    "\n",
    "We will examing basic features of the data for distributions, averages, and trends over time\n",
    "\n",
    "### Data Overview:\n",
    "Explore basic features of data e.g. ranges, averages, and distributions.\n",
    "\n",
    "#### Trend Analysis:\n",
    "Yearly Trends: Compare the revenue for each month across the three years to assess whether the business is growing, stagnating, or declining.\n",
    "Monthly Trends: Analyze how revenue trends within each year to see if there are any particular patterns or peaks and troughs during the summer.\n",
    "Trends in aggregate and across parks....\n",
    "\n",
    "#### Seasonal Analysis:\n",
    "Monthly comparisons: Since you have data specifically for June, July, and August, you can look into which month consistently performs best, and investigate what might be driving higher revenues during that period.\n",
    "\n",
    "#### Day of the Week Analysis:\n",
    "If data allows, analyze which days of the week are most profitable. This can help optimize staffing and marketing strategies.\n",
    "\n",
    "#### Weather Impact Analysis (if weather data is available):\n",
    "Correlate weather conditions with revenue performance, as weather can significantly impact facility usage.\n",
    "\n",
    "#### Event Impact Analysis:\n",
    "If any special events or promotions were held during these months, analyze their impact on revenue. This can help in planning future events or promotions more effectively. Focus on holidays."
   ]
  },
  {
   "cell_type": "code",
   "execution_count": 1,
   "metadata": {},
   "outputs": [],
   "source": [
    "from pathlib import Path\n",
    "\n",
    "import pandas as pd\n",
    "import seaborn.objects as so\n",
    "import matplotlib.pyplot as plt\n",
    "from matplotlib import rcParams\n",
    "import scipy.stats as stats\n"
   ]
  },
  {
   "cell_type": "code",
   "execution_count": null,
   "metadata": {},
   "outputs": [],
   "source": []
  }
 ],
 "metadata": {
  "kernelspec": {
   "display_name": "ocpr-data-viz-env",
   "language": "python",
   "name": "python3"
  },
  "language_info": {
   "codemirror_mode": {
    "name": "ipython",
    "version": 3
   },
   "file_extension": ".py",
   "mimetype": "text/x-python",
   "name": "python",
   "nbconvert_exporter": "python",
   "pygments_lexer": "ipython3",
   "version": "3.11.7"
  }
 },
 "nbformat": 4,
 "nbformat_minor": 2
}
