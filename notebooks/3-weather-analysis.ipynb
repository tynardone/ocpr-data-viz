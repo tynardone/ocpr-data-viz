{
 "cells": [
  {
   "cell_type": "markdown",
   "metadata": {},
   "source": [
    "# Weather Analysis\n",
    "\n",
    "Quick analysis of effects of precipitation and temperature on revenu for golf courses, waterparks, and campgrounds.\n",
    "\n",
    "Overall conclusion is that temperature and precipiation do have a *statistically significant* effect on revenue. However the models constructed have small R^2 values of 0.13 or less. Meaning that for all facilities our daily weather variables explain 13% or less of the variation in daily revenue. Estimated average effects of weather on daily revenue was much smaller for campgrounds than either golf courses or waterparks. This makes intuitive sense as campgrounds visitors are likely to be more committed to a multiday plan and less likely to cancel due to weather, whereas golf courses and waterparks are more likely to have visitors cancel their daily plans based on the weather. \n",
    "\n",
    "Further analysis of this dataset would involve looking for lagged effects of weather on revenue to see if there is a stronger explanatory effect of previous days weather or even the moving average of previous days' weather."
   ]
  },
  {
   "cell_type": "code",
   "execution_count": 37,
   "metadata": {},
   "outputs": [],
   "source": [
    "from pathlib import Path\n",
    "import pandas as pd\n",
    "import numpy as np\n",
    "import matplotlib as plt\n",
    "import statsmodels.api as sm\n",
    "import statsmodels.formula.api as smf\n",
    "from statsmodels.regression.linear_model import RegressionResultsWrapper"
   ]
  },
  {
   "cell_type": "code",
   "execution_count": 38,
   "metadata": {},
   "outputs": [
    {
     "data": {
      "text/html": [
       "<div>\n",
       "<style scoped>\n",
       "    .dataframe tbody tr th:only-of-type {\n",
       "        vertical-align: middle;\n",
       "    }\n",
       "\n",
       "    .dataframe tbody tr th {\n",
       "        vertical-align: top;\n",
       "    }\n",
       "\n",
       "    .dataframe thead th {\n",
       "        text-align: right;\n",
       "    }\n",
       "</style>\n",
       "<table border=\"1\" class=\"dataframe\">\n",
       "  <thead>\n",
       "    <tr style=\"text-align: right;\">\n",
       "      <th></th>\n",
       "      <th>date</th>\n",
       "      <th>park_name</th>\n",
       "      <th>facility</th>\n",
       "      <th>revenue</th>\n",
       "      <th>temp_f</th>\n",
       "      <th>precip_in</th>\n",
       "      <th>month</th>\n",
       "      <th>year</th>\n",
       "      <th>weekday</th>\n",
       "    </tr>\n",
       "  </thead>\n",
       "  <tbody>\n",
       "    <tr>\n",
       "      <th>2</th>\n",
       "      <td>2022-06-01</td>\n",
       "      <td>Groveland Oaks</td>\n",
       "      <td>campground</td>\n",
       "      <td>108</td>\n",
       "      <td>75</td>\n",
       "      <td>0.42</td>\n",
       "      <td>6</td>\n",
       "      <td>2022</td>\n",
       "      <td>Wednesday</td>\n",
       "    </tr>\n",
       "    <tr>\n",
       "      <th>3</th>\n",
       "      <td>2022-06-01</td>\n",
       "      <td>Addison Oaks</td>\n",
       "      <td>campground</td>\n",
       "      <td>80</td>\n",
       "      <td>75</td>\n",
       "      <td>0.42</td>\n",
       "      <td>6</td>\n",
       "      <td>2022</td>\n",
       "      <td>Wednesday</td>\n",
       "    </tr>\n",
       "    <tr>\n",
       "      <th>4</th>\n",
       "      <td>2022-06-01</td>\n",
       "      <td>Springfield Oaks</td>\n",
       "      <td>golf</td>\n",
       "      <td>1184</td>\n",
       "      <td>75</td>\n",
       "      <td>0.42</td>\n",
       "      <td>6</td>\n",
       "      <td>2022</td>\n",
       "      <td>Wednesday</td>\n",
       "    </tr>\n",
       "    <tr>\n",
       "      <th>5</th>\n",
       "      <td>2022-06-01</td>\n",
       "      <td>Glen Oaks</td>\n",
       "      <td>golf</td>\n",
       "      <td>1248</td>\n",
       "      <td>75</td>\n",
       "      <td>0.42</td>\n",
       "      <td>6</td>\n",
       "      <td>2022</td>\n",
       "      <td>Wednesday</td>\n",
       "    </tr>\n",
       "    <tr>\n",
       "      <th>8</th>\n",
       "      <td>2022-06-01</td>\n",
       "      <td>Red Oaks</td>\n",
       "      <td>waterpark</td>\n",
       "      <td>402</td>\n",
       "      <td>75</td>\n",
       "      <td>0.42</td>\n",
       "      <td>6</td>\n",
       "      <td>2022</td>\n",
       "      <td>Wednesday</td>\n",
       "    </tr>\n",
       "  </tbody>\n",
       "</table>\n",
       "</div>"
      ],
      "text/plain": [
       "         date         park_name    facility  revenue  temp_f  precip_in  \\\n",
       "2  2022-06-01    Groveland Oaks  campground      108      75       0.42   \n",
       "3  2022-06-01      Addison Oaks  campground       80      75       0.42   \n",
       "4  2022-06-01  Springfield Oaks        golf     1184      75       0.42   \n",
       "5  2022-06-01         Glen Oaks        golf     1248      75       0.42   \n",
       "8  2022-06-01          Red Oaks   waterpark      402      75       0.42   \n",
       "\n",
       "   month  year    weekday  \n",
       "2      6  2022  Wednesday  \n",
       "3      6  2022  Wednesday  \n",
       "4      6  2022  Wednesday  \n",
       "5      6  2022  Wednesday  \n",
       "8      6  2022  Wednesday  "
      ]
     },
     "execution_count": 38,
     "metadata": {},
     "output_type": "execute_result"
    }
   ],
   "source": [
    "processed_data_path = Path('../data/processed')\n",
    "\n",
    "parks_data = pd.read_csv(processed_data_path / 'parks-data-long.csv')\n",
    "weather = pd.read_csv(processed_data_path / 'weather.csv')\n",
    "df = (pd\n",
    "      .merge(parks_data, weather, on='date', how='left')\n",
    "      .loc[lambda x: x['variable'] == 'revenue']\n",
    "      .rename(columns={'value':'revenue'})\n",
    "      .drop(columns=['variable'])\n",
    "      .assign(month=lambda x: pd.to_datetime(x['date']).dt.month,\n",
    "              year=lambda x: pd.to_datetime(x['date']).dt.year,\n",
    "              weekday=lambda x: pd.to_datetime(x['date']).dt.day_name(),\n",
    "      )\n",
    ")\n",
    "\n",
    "df.head()"
   ]
  },
  {
   "cell_type": "code",
   "execution_count": 39,
   "metadata": {},
   "outputs": [],
   "source": [
    "def build_regression_model(df: pd.DataFrame, facility_type: str) -> RegressionResultsWrapper:\n",
    "    # Convert month and weekday to categorical variables\n",
    "    df['month'] = df['month'].astype('category')\n",
    "    df['weekday'] = df['weekday'].astype('category')\n",
    "\n",
    "    subset = df[df['facility'] == facility_type]\n",
    "        \n",
    "        # Build the model using Patsy formulas to handle categorical variables\n",
    "    formula = 'revenue ~ temp_f + precip_in'\n",
    "    model = smf.ols(formula, data=subset).fit()\n",
    "    \n",
    "    return model"
   ]
  },
  {
   "cell_type": "markdown",
   "metadata": {},
   "source": [
    "### Golf"
   ]
  },
  {
   "cell_type": "code",
   "execution_count": 40,
   "metadata": {},
   "outputs": [
    {
     "name": "stdout",
     "output_type": "stream",
     "text": [
      "Facility Type: Golf\n",
      "                            OLS Regression Results                            \n",
      "==============================================================================\n",
      "Dep. Variable:                revenue   R-squared:                       0.128\n",
      "Model:                            OLS   Adj. R-squared:                  0.125\n",
      "Method:                 Least Squares   F-statistic:                     40.18\n",
      "Date:                Thu, 25 Apr 2024   Prob (F-statistic):           5.16e-17\n",
      "Time:                        00:13:48   Log-Likelihood:                -3811.4\n",
      "No. Observations:                 552   AIC:                             7629.\n",
      "Df Residuals:                     549   BIC:                             7642.\n",
      "Df Model:                           2                                         \n",
      "Covariance Type:            nonrobust                                         \n",
      "==============================================================================\n",
      "                 coef    std err          t      P>|t|      [0.025      0.975]\n",
      "------------------------------------------------------------------------------\n",
      "Intercept    590.8467     89.471      6.604      0.000     415.099     766.594\n",
      "temp_f         8.4185      1.200      7.014      0.000       6.061      10.776\n",
      "precip_in   -430.7451     69.696     -6.180      0.000    -567.649    -293.841\n",
      "==============================================================================\n",
      "Omnibus:                        5.244   Durbin-Watson:                   1.918\n",
      "Prob(Omnibus):                  0.073   Jarque-Bera (JB):                4.252\n",
      "Skew:                           0.118   Prob(JB):                        0.119\n",
      "Kurtosis:                       2.640   Cond. No.                         652.\n",
      "==============================================================================\n",
      "\n",
      "Notes:\n",
      "[1] Standard Errors assume that the covariance matrix of the errors is correctly specified.\n"
     ]
    }
   ],
   "source": [
    "golf_model = build_regression_model(df, 'golf')\n",
    "print(\"Facility Type: Golf\")\n",
    "print(golf_model.summary())"
   ]
  },
  {
   "cell_type": "markdown",
   "metadata": {},
   "source": [
    "### Campground"
   ]
  },
  {
   "cell_type": "code",
   "execution_count": 41,
   "metadata": {},
   "outputs": [
    {
     "name": "stdout",
     "output_type": "stream",
     "text": [
      "Facility Type: Campground\n",
      "                            OLS Regression Results                            \n",
      "==============================================================================\n",
      "Dep. Variable:                revenue   R-squared:                       0.118\n",
      "Model:                            OLS   Adj. R-squared:                  0.115\n",
      "Method:                 Least Squares   F-statistic:                     36.88\n",
      "Date:                Thu, 25 Apr 2024   Prob (F-statistic):           9.41e-16\n",
      "Time:                        00:13:48   Log-Likelihood:                -2865.8\n",
      "No. Observations:                 552   AIC:                             5738.\n",
      "Df Residuals:                     549   BIC:                             5750.\n",
      "Df Model:                           2                                         \n",
      "Covariance Type:            nonrobust                                         \n",
      "==============================================================================\n",
      "                 coef    std err          t      P>|t|      [0.025      0.975]\n",
      "------------------------------------------------------------------------------\n",
      "Intercept     41.4988     16.132      2.572      0.010       9.811      73.186\n",
      "temp_f         1.3867      0.216      6.408      0.000       0.962       1.812\n",
      "precip_in    -78.6735     12.566     -6.261      0.000    -103.357     -53.990\n",
      "==============================================================================\n",
      "Omnibus:                       13.581   Durbin-Watson:                   2.099\n",
      "Prob(Omnibus):                  0.001   Jarque-Bera (JB):               10.138\n",
      "Skew:                           0.227   Prob(JB):                      0.00629\n",
      "Kurtosis:                       2.516   Cond. No.                         652.\n",
      "==============================================================================\n",
      "\n",
      "Notes:\n",
      "[1] Standard Errors assume that the covariance matrix of the errors is correctly specified.\n"
     ]
    }
   ],
   "source": [
    "campground_model = build_regression_model(df, 'campground')\n",
    "print(\"Facility Type: Campground\")\n",
    "print(campground_model.summary())"
   ]
  },
  {
   "cell_type": "markdown",
   "metadata": {},
   "source": [
    "### Waterpark"
   ]
  },
  {
   "cell_type": "code",
   "execution_count": 42,
   "metadata": {},
   "outputs": [
    {
     "name": "stdout",
     "output_type": "stream",
     "text": [
      "Facility Type: Waterpark\n",
      "                            OLS Regression Results                            \n",
      "==============================================================================\n",
      "Dep. Variable:                revenue   R-squared:                       0.064\n",
      "Model:                            OLS   Adj. R-squared:                  0.060\n",
      "Method:                 Least Squares   F-statistic:                     18.73\n",
      "Date:                Thu, 25 Apr 2024   Prob (F-statistic):           1.35e-08\n",
      "Time:                        00:13:49   Log-Likelihood:                -3973.9\n",
      "No. Observations:                 552   AIC:                             7954.\n",
      "Df Residuals:                     549   BIC:                             7967.\n",
      "Df Model:                           2                                         \n",
      "Covariance Type:            nonrobust                                         \n",
      "==============================================================================\n",
      "                 coef    std err          t      P>|t|      [0.025      0.975]\n",
      "------------------------------------------------------------------------------\n",
      "Intercept    401.2879    120.099      3.341      0.001     165.378     637.198\n",
      "temp_f         7.9401      1.611      4.928      0.000       4.775      11.105\n",
      "precip_in   -379.0144     93.555     -4.051      0.000    -562.784    -195.245\n",
      "==============================================================================\n",
      "Omnibus:                       21.869   Durbin-Watson:                   1.652\n",
      "Prob(Omnibus):                  0.000   Jarque-Bera (JB):               23.848\n",
      "Skew:                           0.508   Prob(JB):                     6.63e-06\n",
      "Kurtosis:                       2.926   Cond. No.                         652.\n",
      "==============================================================================\n",
      "\n",
      "Notes:\n",
      "[1] Standard Errors assume that the covariance matrix of the errors is correctly specified.\n"
     ]
    }
   ],
   "source": [
    "waterpark_model = build_regression_model(df, 'waterpark')\n",
    "print(\"Facility Type: Waterpark\")\n",
    "print(waterpark_model.summary())"
   ]
  },
  {
   "cell_type": "code",
   "execution_count": null,
   "metadata": {},
   "outputs": [],
   "source": []
  },
  {
   "cell_type": "code",
   "execution_count": null,
   "metadata": {},
   "outputs": [],
   "source": []
  },
  {
   "cell_type": "code",
   "execution_count": null,
   "metadata": {},
   "outputs": [],
   "source": []
  }
 ],
 "metadata": {
  "kernelspec": {
   "display_name": "ocpr-data-viz-env",
   "language": "python",
   "name": "python3"
  },
  "language_info": {
   "codemirror_mode": {
    "name": "ipython",
    "version": 3
   },
   "file_extension": ".py",
   "mimetype": "text/x-python",
   "name": "python",
   "nbconvert_exporter": "python",
   "pygments_lexer": "ipython3",
   "version": "3.11.7"
  }
 },
 "nbformat": 4,
 "nbformat_minor": 2
}
